{
 "cells": [
  {
   "cell_type": "code",
   "execution_count": 15,
   "id": "1ccea670",
   "metadata": {},
   "outputs": [],
   "source": [
    "import numpy as np\n",
    "import pandas as pd\n",
    "import networkx as nx\n",
    "import matplotlib.pyplot as plt\n",
    "import matplotlib as mpl\n",
    "#%matplotlib inline"
   ]
  },
  {
   "cell_type": "code",
   "execution_count": 16,
   "id": "d0855184",
   "metadata": {},
   "outputs": [
    {
     "data": {
      "text/html": [
       "<div>\n",
       "<style scoped>\n",
       "    .dataframe tbody tr th:only-of-type {\n",
       "        vertical-align: middle;\n",
       "    }\n",
       "\n",
       "    .dataframe tbody tr th {\n",
       "        vertical-align: top;\n",
       "    }\n",
       "\n",
       "    .dataframe thead th {\n",
       "        text-align: right;\n",
       "    }\n",
       "</style>\n",
       "<table border=\"1\" class=\"dataframe\">\n",
       "  <thead>\n",
       "    <tr style=\"text-align: right;\">\n",
       "      <th></th>\n",
       "      <th>Position</th>\n",
       "      <th>Track Name</th>\n",
       "      <th>Artist</th>\n",
       "      <th>Streams</th>\n",
       "      <th>URL</th>\n",
       "      <th>Date</th>\n",
       "      <th>Region</th>\n",
       "    </tr>\n",
       "  </thead>\n",
       "  <tbody>\n",
       "    <tr>\n",
       "      <th>0</th>\n",
       "      <td>1</td>\n",
       "      <td>Reggaetón Lento (Bailemos)</td>\n",
       "      <td>CNCO</td>\n",
       "      <td>19272</td>\n",
       "      <td>https://open.spotify.com/track/3AEZUABDXNtecAO...</td>\n",
       "      <td>2017-01-01</td>\n",
       "      <td>ec</td>\n",
       "    </tr>\n",
       "    <tr>\n",
       "      <th>1</th>\n",
       "      <td>2</td>\n",
       "      <td>Chantaje</td>\n",
       "      <td>Shakira</td>\n",
       "      <td>19270</td>\n",
       "      <td>https://open.spotify.com/track/6mICuAdrwEjh6Y6...</td>\n",
       "      <td>2017-01-01</td>\n",
       "      <td>ec</td>\n",
       "    </tr>\n",
       "    <tr>\n",
       "      <th>2</th>\n",
       "      <td>3</td>\n",
       "      <td>Otra Vez (feat. J Balvin)</td>\n",
       "      <td>Zion &amp; Lennox</td>\n",
       "      <td>15761</td>\n",
       "      <td>https://open.spotify.com/track/3QwBODjSEzelZyV...</td>\n",
       "      <td>2017-01-01</td>\n",
       "      <td>ec</td>\n",
       "    </tr>\n",
       "    <tr>\n",
       "      <th>3</th>\n",
       "      <td>4</td>\n",
       "      <td>Vente Pa' Ca</td>\n",
       "      <td>Ricky Martin</td>\n",
       "      <td>14954</td>\n",
       "      <td>https://open.spotify.com/track/7DM4BPaS7uofFul...</td>\n",
       "      <td>2017-01-01</td>\n",
       "      <td>ec</td>\n",
       "    </tr>\n",
       "    <tr>\n",
       "      <th>4</th>\n",
       "      <td>5</td>\n",
       "      <td>Safari</td>\n",
       "      <td>J Balvin</td>\n",
       "      <td>14269</td>\n",
       "      <td>https://open.spotify.com/track/6rQSrBHf7HlZjtc...</td>\n",
       "      <td>2017-01-01</td>\n",
       "      <td>ec</td>\n",
       "    </tr>\n",
       "  </tbody>\n",
       "</table>\n",
       "</div>"
      ],
      "text/plain": [
       "   Position                  Track Name         Artist  Streams  \\\n",
       "0         1  Reggaetón Lento (Bailemos)           CNCO    19272   \n",
       "1         2                    Chantaje        Shakira    19270   \n",
       "2         3   Otra Vez (feat. J Balvin)  Zion & Lennox    15761   \n",
       "3         4                Vente Pa' Ca   Ricky Martin    14954   \n",
       "4         5                      Safari       J Balvin    14269   \n",
       "\n",
       "                                                 URL        Date Region  \n",
       "0  https://open.spotify.com/track/3AEZUABDXNtecAO...  2017-01-01     ec  \n",
       "1  https://open.spotify.com/track/6mICuAdrwEjh6Y6...  2017-01-01     ec  \n",
       "2  https://open.spotify.com/track/3QwBODjSEzelZyV...  2017-01-01     ec  \n",
       "3  https://open.spotify.com/track/7DM4BPaS7uofFul...  2017-01-01     ec  \n",
       "4  https://open.spotify.com/track/6rQSrBHf7HlZjtc...  2017-01-01     ec  "
      ]
     },
     "execution_count": 16,
     "metadata": {},
     "output_type": "execute_result"
    }
   ],
   "source": [
    "df = pd.read_csv('./archive/data.csv')\n",
    "df.head()"
   ]
  },
  {
   "cell_type": "code",
   "execution_count": 17,
   "id": "2eff40c5",
   "metadata": {},
   "outputs": [
    {
     "data": {
      "text/plain": [
       "0          Reggaetón Lento (Bailemos)\n",
       "1                            Chantaje\n",
       "2           Otra Vez (feat. J Balvin)\n",
       "3                        Vente Pa' Ca\n",
       "4                              Safari\n",
       "                      ...            \n",
       "3441192            More Than You Know\n",
       "3441193                        Issues\n",
       "3441194                   Tuo Fei Lun\n",
       "3441195                            面具\n",
       "3441196                    Let Her Go\n",
       "Name: Track Name, Length: 3441197, dtype: object"
      ]
     },
     "execution_count": 17,
     "metadata": {},
     "output_type": "execute_result"
    }
   ],
   "source": [
    "df[\"Track Name\"]"
   ]
  },
  {
   "cell_type": "code",
   "execution_count": 18,
   "id": "d9aac3ac",
   "metadata": {},
   "outputs": [
    {
     "data": {
      "text/plain": [
       "0          ec\n",
       "1          ec\n",
       "2          ec\n",
       "3          ec\n",
       "4          ec\n",
       "           ..\n",
       "3441192    hk\n",
       "3441193    hk\n",
       "3441194    hk\n",
       "3441195    hk\n",
       "3441196    hk\n",
       "Name: Region, Length: 3441197, dtype: object"
      ]
     },
     "execution_count": 18,
     "metadata": {},
     "output_type": "execute_result"
    }
   ],
   "source": [
    "df[\"Region\"]"
   ]
  },
  {
   "cell_type": "code",
   "execution_count": null,
   "id": "561a32e4",
   "metadata": {},
   "outputs": [],
   "source": [
    "G = nx.Graph()"
   ]
  },
  {
   "cell_type": "code",
   "execution_count": 48,
   "id": "51f21303",
   "metadata": {},
   "outputs": [
    {
     "name": "stdout",
     "output_type": "stream",
     "text": [
      "('song', 0)\n",
      "Before adding: 0\n",
      "('song', 1)\n",
      "True\n"
     ]
    }
   ],
   "source": [
    "#Test\n",
    "Test = {}\n",
    "Test[\"song\"] = 0 \n",
    "\n",
    "for i in Test.items():\n",
    "    print(i)\n",
    "\n",
    "output = Test.get(\"song\") \n",
    "print(\"Before adding:\", output)\n",
    "\n",
    "output = output + 1 \n",
    "Test.update({\"song\": output})\n",
    "\n",
    "for i in Test.items():\n",
    "    print(i)\n",
    "\n",
    "if Test.get(\"song\") != None:\n",
    "    print(\"True\")\n",
    "else:\n",
    "    print(\"False\")"
   ]
  },
  {
   "cell_type": "code",
   "execution_count": 46,
   "id": "09b207de",
   "metadata": {},
   "outputs": [
    {
     "name": "stdout",
     "output_type": "stream",
     "text": [
      "('song', 0)\n",
      "Before adding: 0\n",
      "('song', 1)\n",
      "True\n"
     ]
    }
   ],
   "source": [
    "Songs = {}\n",
    "Songs.update({\"song\": 0})\n",
    "\n",
    "SongDate = {}\n",
    "\n",
    "i = 0 \n",
    "for row in df.index:\n",
    "    #print(df[\"Track Name\"][row], df[\"Region\"][row]\n",
    "    i = i + 1\n",
    "\n",
    "    if Songs.get(df[\"Track Name\"][row]) != None:\n",
    "        #add to value\n",
    "        newValue = Songs.get(df[\"Track Name\"][row]) + 1\n",
    "        Songs.update({df[\"Track Name\"][row]: newValue})\n",
    "    else:\n",
    "        Songs.update({df[\"Track Name\"][row]: 0})\n",
    "\n",
    "    SongDate.update({df[\"Track Name\"][row]: df[\"Date\"][row]})\n",
    "\n",
    "    if i == 3:\n",
    "        break\n",
    "\n",
    "for i in Songs.items():\n",
    "    print(i)\n",
    "\n",
    "for a in SongDate.items():\n",
    "    print(a)"
   ]
  },
  {
   "cell_type": "code",
   "execution_count": 23,
   "id": "a89ac72b",
   "metadata": {},
   "outputs": [
    {
     "name": "stdout",
     "output_type": "stream",
     "text": [
      "255\n"
     ]
    }
   ],
   "source": [
    "#print(G.number_of_nodes())"
   ]
  },
  {
   "cell_type": "code",
   "execution_count": null,
   "id": "153b5b20",
   "metadata": {},
   "outputs": [],
   "source": []
  }
 ],
 "metadata": {
  "kernelspec": {
   "display_name": "Python 3.10.7 64-bit",
   "language": "python",
   "name": "python3"
  },
  "language_info": {
   "codemirror_mode": {
    "name": "ipython",
    "version": 3
   },
   "file_extension": ".py",
   "mimetype": "text/x-python",
   "name": "python",
   "nbconvert_exporter": "python",
   "pygments_lexer": "ipython3",
   "version": "3.10.7"
  },
  "vscode": {
   "interpreter": {
    "hash": "3516ae58402408c1c8fee4af5eaa5191c31b327d45446ded1cca9258c0051614"
   }
  }
 },
 "nbformat": 4,
 "nbformat_minor": 5
}
